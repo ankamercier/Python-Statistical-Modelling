{
 "cells": [
  {
   "cell_type": "markdown",
   "metadata": {},
   "source": [
    "# CityBikes"
   ]
  },
  {
   "cell_type": "markdown",
   "metadata": {},
   "source": [
    "Initially, the Author desired to show statistics for Copenhagen - a [world's most bike-friendly city](https://www.weforum.org/agenda/2018/10/what-makes-copenhagen-the-worlds-most-bike-friendly-city/), according to World Economic Forum. Sure, it's impressive that **bikes outnumber cars with a sweet 5:1 ratio**, which contributes to everything from overall health and air quality.\n",
    "\n",
    "> Side note: WEF did not mention thefts that occur [every 30 minutes](https://cphpost.dk/2023-10-30/news/ten-year-record-copenhagen-hits-new-high-for-bicycle-thefts/) in Denmarks' capital, with only 1% of cases solved. \n",
    "\n",
    "Sadly, CityBikes decided not to include this city (I find it biased), perhaps due to the fact that if you live in Copenhagen, you probably own 3 to 6 bikes (on average). You guessed it right - running a bike rental company there would be a poor decision (unless you cater to tourists).\n",
    "\n",
    "With that being said, we solemnly announce that in order to compensate the lack of Copenhagen, for all the fun we miss, there would be **occasional stats and fun facts** in every notebook, to keep you entertained.\n",
    "\n",
    "Now, let's \"board\" our API and visit another city, not so far away - Oslo!\n",
    "\n",
    "# Part 1: Connecting to CityBikes API\n",
    "\n",
    "For this part, we will work with an API that you have not seen before: [CityBikes](https://citybik.es/) \n",
    "\n",
    "Citybikes is an API that provides bike sharing data for apps, research and projects.\n",
    "CityBikes supports more than 400 cities and the Citybikes API is an interesting dataset for building bike-sharing transportation projects.\n",
    "\n",
    "Tasks are as follows:\n",
    "1. Explore the structure of the API, query the API and understand the data returned. \n",
    "2. Choose a city covered by the CityBikes API and retrieve all available bike stations in that city. \n",
    "3. For each bike station, use the API to call the latitude, longitude and number of bikes. \n",
    "4. Parse the JSON object into a Pandas dataframe. "
   ]
  },
  {
   "cell_type": "markdown",
   "metadata": {},
   "source": [
    "**TASK**: send a request to CityBikes for the city of your choice. "
   ]
  },
  {
   "cell_type": "code",
   "execution_count": 2,
   "metadata": {},
   "outputs": [],
   "source": [
    "import pandas as pd\n",
    "import requests\n",
    "import os\n",
    "# get display module for easier interaction with JSON files \n",
    "from IPython.display import JSON"
   ]
  },
  {
   "cell_type": "code",
   "execution_count": 3,
   "metadata": {},
   "outputs": [],
   "source": [
    "# requesting all network info & converting it to JSON\n",
    "city_bike_networks = requests.get('http://api.citybik.es/v2/networks?fields=id,href,location').json()"
   ]
  },
  {
   "cell_type": "code",
   "execution_count": null,
   "metadata": {},
   "outputs": [],
   "source": [
    "# getting familiar with data and it's structure \n",
    "# (which is also available in API documentation, but useful to skim through in IDE as well)\n",
    "JSON(city_bike_networks)"
   ]
  },
  {
   "cell_type": "markdown",
   "metadata": {},
   "source": [
    "Using the code line above it was possible to verify the network name for Oslo city bikes: \n",
    "- `\"id\":\"oslo-bysykkel\",\"href\":\"/v2/networks/oslo-bysykkel\"`\n",
    "\n",
    "> **DID YOU KNOW?**\n",
    "<br> Some companies reward their employees for using bicycles. [CLIF Bar & Company](https://www.bicycling.com/culture/g20967875/the-top-25-best-companies-for-cyclists/?slide=2) offers up to $765 a year in rewards for employees who commute by bike and an additional $500 every six years to buy a new one.\n",
    "\n",
    "Now we can proceed with API request for Oslo:"
   ]
  },
  {
   "cell_type": "code",
   "execution_count": null,
   "metadata": {},
   "outputs": [],
   "source": [
    "#  API request \n",
    "oslo_network = requests.get('http://api.citybik.es/v2/networks/oslo-bysykkel').json()\n",
    "JSON(oslo_network)"
   ]
  },
  {
   "cell_type": "markdown",
   "metadata": {},
   "source": [
    "**TASK**: Parse through the response to get the details you want for the bike stations in that city (latitude, longitude, number of bikes). "
   ]
  },
  {
   "cell_type": "code",
   "execution_count": 6,
   "metadata": {},
   "outputs": [],
   "source": [
    "# stations data for Oslo:\n",
    "stations = oslo_network['network']['stations']\n",
    "\n",
    "# create an empty list to store station data\n",
    "station_list = []\n",
    "\n",
    "# for loop (to gather all station data)\n",
    "for station in stations:\n",
    "    station_list.append({\n",
    "        'name': station['name'],\n",
    "        'latitude': station['latitude'], \n",
    "        'longitude': station['longitude'],\n",
    "        'bikes_available': station['free_bikes'],\n",
    "        'slots': station['extra']['slots']\n",
    "    })"
   ]
  },
  {
   "cell_type": "markdown",
   "metadata": {},
   "source": [
    "**TASK**: Put your parsed results into a DataFrame."
   ]
  },
  {
   "cell_type": "code",
   "execution_count": 7,
   "metadata": {},
   "outputs": [
    {
     "data": {
      "text/html": [
       "<div>\n",
       "<style scoped>\n",
       "    .dataframe tbody tr th:only-of-type {\n",
       "        vertical-align: middle;\n",
       "    }\n",
       "\n",
       "    .dataframe tbody tr th {\n",
       "        vertical-align: top;\n",
       "    }\n",
       "\n",
       "    .dataframe thead th {\n",
       "        text-align: right;\n",
       "    }\n",
       "</style>\n",
       "<table border=\"1\" class=\"dataframe\">\n",
       "  <thead>\n",
       "    <tr style=\"text-align: right;\">\n",
       "      <th></th>\n",
       "      <th>name</th>\n",
       "      <th>latitude</th>\n",
       "      <th>longitude</th>\n",
       "      <th>bikes_available</th>\n",
       "      <th>slots</th>\n",
       "    </tr>\n",
       "  </thead>\n",
       "  <tbody>\n",
       "    <tr>\n",
       "      <th>0</th>\n",
       "      <td>Langkaia</td>\n",
       "      <td>59.908055</td>\n",
       "      <td>10.747998</td>\n",
       "      <td>6</td>\n",
       "      <td>12</td>\n",
       "    </tr>\n",
       "    <tr>\n",
       "      <th>1</th>\n",
       "      <td>Spikersuppa Vest</td>\n",
       "      <td>59.913720</td>\n",
       "      <td>10.735887</td>\n",
       "      <td>8</td>\n",
       "      <td>42</td>\n",
       "    </tr>\n",
       "    <tr>\n",
       "      <th>2</th>\n",
       "      <td>Vippetangen vest</td>\n",
       "      <td>59.903989</td>\n",
       "      <td>10.740627</td>\n",
       "      <td>1</td>\n",
       "      <td>30</td>\n",
       "    </tr>\n",
       "    <tr>\n",
       "      <th>3</th>\n",
       "      <td>Kjeld Stubs gate</td>\n",
       "      <td>59.912711</td>\n",
       "      <td>10.735595</td>\n",
       "      <td>3</td>\n",
       "      <td>12</td>\n",
       "    </tr>\n",
       "    <tr>\n",
       "      <th>4</th>\n",
       "      <td>Studentparlamentet</td>\n",
       "      <td>59.920852</td>\n",
       "      <td>10.733357</td>\n",
       "      <td>13</td>\n",
       "      <td>30</td>\n",
       "    </tr>\n",
       "    <tr>\n",
       "      <th>...</th>\n",
       "      <td>...</td>\n",
       "      <td>...</td>\n",
       "      <td>...</td>\n",
       "      <td>...</td>\n",
       "      <td>...</td>\n",
       "    </tr>\n",
       "    <tr>\n",
       "      <th>258</th>\n",
       "      <td>Parkveien</td>\n",
       "      <td>59.921768</td>\n",
       "      <td>10.730476</td>\n",
       "      <td>12</td>\n",
       "      <td>15</td>\n",
       "    </tr>\n",
       "    <tr>\n",
       "      <th>259</th>\n",
       "      <td>Skovveien</td>\n",
       "      <td>59.916331</td>\n",
       "      <td>10.716349</td>\n",
       "      <td>0</td>\n",
       "      <td>18</td>\n",
       "    </tr>\n",
       "    <tr>\n",
       "      <th>260</th>\n",
       "      <td>Dronningens gate</td>\n",
       "      <td>59.911392</td>\n",
       "      <td>10.747282</td>\n",
       "      <td>10</td>\n",
       "      <td>18</td>\n",
       "    </tr>\n",
       "    <tr>\n",
       "      <th>261</th>\n",
       "      <td>Rådhusgata</td>\n",
       "      <td>59.910924</td>\n",
       "      <td>10.736215</td>\n",
       "      <td>11</td>\n",
       "      <td>42</td>\n",
       "    </tr>\n",
       "    <tr>\n",
       "      <th>262</th>\n",
       "      <td>Schives gate</td>\n",
       "      <td>59.920956</td>\n",
       "      <td>10.714056</td>\n",
       "      <td>14</td>\n",
       "      <td>27</td>\n",
       "    </tr>\n",
       "  </tbody>\n",
       "</table>\n",
       "<p>263 rows × 5 columns</p>\n",
       "</div>"
      ],
      "text/plain": [
       "                   name   latitude  longitude  bikes_available  slots\n",
       "0              Langkaia  59.908055  10.747998                6     12\n",
       "1      Spikersuppa Vest  59.913720  10.735887                8     42\n",
       "2      Vippetangen vest  59.903989  10.740627                1     30\n",
       "3      Kjeld Stubs gate  59.912711  10.735595                3     12\n",
       "4    Studentparlamentet  59.920852  10.733357               13     30\n",
       "..                  ...        ...        ...              ...    ...\n",
       "258           Parkveien  59.921768  10.730476               12     15\n",
       "259           Skovveien  59.916331  10.716349                0     18\n",
       "260    Dronningens gate  59.911392  10.747282               10     18\n",
       "261          Rådhusgata  59.910924  10.736215               11     42\n",
       "262        Schives gate  59.920956  10.714056               14     27\n",
       "\n",
       "[263 rows x 5 columns]"
      ]
     },
     "execution_count": 7,
     "metadata": {},
     "output_type": "execute_result"
    }
   ],
   "source": [
    "oslo_bikes_data = pd.DataFrame(station_list)\n",
    "oslo_bikes_data"
   ]
  },
  {
   "cell_type": "code",
   "execution_count": 8,
   "metadata": {},
   "outputs": [],
   "source": [
    "# finally, we will save our data to a .csv file\n",
    "oslo_bikes_data.to_csv('oslo_bikes_data.csv') "
   ]
  },
  {
   "cell_type": "markdown",
   "metadata": {},
   "source": [
    "> **DID YOU KNOW?**\n",
    ">\n",
    "> One-quarter of stolen bikes in the USA and Canada in 2019 were said to be used to commit [secondary crimes](https://discerningcyclist.com/bike-theft-statistics/)."
   ]
  }
 ],
 "metadata": {
  "kernelspec": {
   "display_name": "new_env",
   "language": "python",
   "name": "python3"
  },
  "language_info": {
   "codemirror_mode": {
    "name": "ipython",
    "version": 3
   },
   "file_extension": ".py",
   "mimetype": "text/x-python",
   "name": "python",
   "nbconvert_exporter": "python",
   "pygments_lexer": "ipython3",
   "version": "3.8.15"
  }
 },
 "nbformat": 4,
 "nbformat_minor": 4
}
